{
 "metadata": {
  "name": ""
 },
 "nbformat": 3,
 "nbformat_minor": 0,
 "worksheets": [
  {
   "cells": [
    {
     "cell_type": "code",
     "collapsed": false,
     "input": [
      "import cPickle\n",
      "\n",
      "with open('/vol/atlas/pts08/cvpr/results/celebrities/all_result_dict.pkl', 'rb') as f:\n",
      "    results = cPickle.load(f)"
     ],
     "language": "python",
     "metadata": {},
     "outputs": []
    },
    {
     "cell_type": "code",
     "collapsed": false,
     "input": [
      "s = sort(results.keys())\n",
      "print s\n",
      "s = ['samuel_beckett']\n",
      "\n",
      "f = results[s[0]].keys()\n",
      "print f\n",
      "f = ['spherical']"
     ],
     "language": "python",
     "metadata": {},
     "outputs": []
    },
    {
     "cell_type": "code",
     "collapsed": false,
     "input": [
      "from surface_reconstruction import frankotchellappa, gradient_field_from_normals\n",
      "from pybug.image import DepthImage\n",
      "import mayavi.mlab as mlab\n",
      "from pybug.io import auto_import\n",
      "import matplotlib.pyplot as plt\n",
      "from scipy.ndimage.filters import median_filter\n",
      "import mayavi.mlab as mlab\n",
      "from pybug.landmark import labeller, ibug_68_closed_mouth\n",
      "\n",
      "\n",
      "fig = mlab.figure(bgcolor=(1.0, 1.0, 1.0), size=(265, 340))\n",
      "for subject in sort(s):\n",
      "    for feature in sort(f):\n",
      "        subject_images = auto_import('/home/pts08/research/sfs/celebrities/{0}.png'.format(subject))\n",
      "\n",
      "        # The first image is the only landmarked one\n",
      "        intensity_image = subject_images[0]\n",
      "        \n",
      "        # Label with correct labels\n",
      "        labeller([intensity_image],\n",
      "                 'PTS', ibug_68_closed_mouth)\n",
      "        \n",
      "        # Constrain to mask\n",
      "        intensity_image.constrain_mask_to_landmarks(\n",
      "            group='ibug_68_closed_mouth', label='all')\n",
      "        \n",
      "        normal_image = results[subject][feature]\n",
      "        g = gradient_field_from_normals(normal_image)\n",
      "        g = normal_image.pixels\n",
      "        depth = frankotchellappa(-g[..., 0], g[..., 1])\n",
      "        if feature == 'ground_truth':\n",
      "            depth = (depth - np.min(depth)) / 1.3\n",
      "        else:\n",
      "            depth = (depth - np.min(depth)) / 1.3\n",
      "        mlab.clf(figure=fig)\n",
      "        depth[~normal_image.mask.mask] = np.nan\n",
      "#         mlab.surf(depth, figure=fig, colormap='gray')\n",
      "#         d = DepthImage(depth, mask=normal_image.mask)\n",
      "#         xs, ys = np.meshgrid(np.arange(d.shape[1]), np.arange(d.shape[0]))\n",
      "#         mlab.mesh(xs, ys, depth, representation='surface', colormap='gray')\n",
      "        DepthImage(depth, mask=normal_image.mask, texture=intensity_image).view(figure=fig, mode='mesh')\n",
      "#         mlab.view(*view)\n",
      "#         mlab.roll(roll)\n",
      "#         break\n",
      "#         mlab.savefig('/vol/atlas/pts08/cvpr/results/photoface/images/{0}_{1}.png'.format(subject, feature), size=(265, 340), figure=fig, magnification='auto')\n",
      "    \n",
      "# View: (-78.883623999714359, 62.308767040243019, 747.60604839368398, array([ 112.14899269,  144.40841898,    6.14955313]))\n",
      "# Roll: -91.8260609822"
     ],
     "language": "python",
     "metadata": {},
     "outputs": []
    },
    {
     "cell_type": "code",
     "collapsed": false,
     "input": [
      "mlab.savefig('/vol/atlas/pts08/cvpr/results/celebrities/images/{0}_{1}_texture.png'.format(subject, feature), size=(265, 340), figure=fig, magnification='auto')"
     ],
     "language": "python",
     "metadata": {},
     "outputs": []
    }
   ],
   "metadata": {}
  }
 ]
}