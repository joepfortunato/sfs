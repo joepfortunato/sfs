{
 "metadata": {
  "name": ""
 },
 "nbformat": 3,
 "nbformat_minor": 0,
 "worksheets": [
  {
   "cells": [
    {
     "cell_type": "code",
     "collapsed": false,
     "input": [
      "RESULT_SET = 'photoface'\n",
      "# RESULT_SET = 'yaleb'"
     ],
     "language": "python",
     "metadata": {},
     "outputs": []
    },
    {
     "cell_type": "code",
     "collapsed": false,
     "input": [
      "import matplotlib.pyplot as plt\n",
      "import cPickle\n",
      "from itertools import chain, izip\n",
      "\n",
      "with open('/vol/atlas/pts08/cvpr/results/{0}/mean_depth_errors.pkl'.format(RESULT_SET), 'rb') as f:\n",
      "    mean_depth_error = cPickle.load(f)\n",
      "\n",
      "photoface_subjects = ['bej', 'bln', 'fav', 'mut', 'pet', 'rob', 'srb']\n",
      "yaleb_subjects = ['yaleB01', 'yaleB02', 'yaleB03', 'yaleB04', 'yaleB05',\n",
      "                  'yaleB06', 'yaleB07', 'yaleB08', 'yaleB09', 'yaleB10']\n",
      "if RESULT_SET == 'yaleb':\n",
      "    a = yaleb_subjects\n",
      "else:\n",
      "    a = photoface_subjects\n",
      "    \n",
      "colours = ['r-s', 'g-d', 'r-v', 'b--*']\n",
      "mean_depth_error = mean_depth_error.T\n",
      "mean_depth_error = mean_depth_error[[0, 1, 3, 4], ...]\n",
      "lines = list(chain.from_iterable(izip([range(len(a))] * len(a), mean_depth_error, colours)))\n",
      "\n",
      "plt.plot(*lines)\n",
      "plt.xticks(range(len(a)), a)\n",
      "plt.ylabel('Mean error per pixel')\n",
      "plt.xlabel('Subject ID')\n",
      "plt.legend(['AEP', 'IP', 'PGA', 'SPHERICAL'], loc=2)"
     ],
     "language": "python",
     "metadata": {},
     "outputs": []
    },
    {
     "cell_type": "code",
     "collapsed": false,
     "input": [
      "with open('/vol/atlas/pts08/cvpr/results/{0}/mean_angular_errors.pkl'.format(RESULT_SET), 'rb') as f:\n",
      "    mean_angular_error = cPickle.load(f)\n",
      "\n",
      "colours = ['r-s', 'g-d', 'r-v', 'b--*']\n",
      "mean_angular_error = mean_angular_error.T\n",
      "mean_angular_error = mean_angular_error[[0, 1, 3, 4], ...]\n",
      "lines = list(chain.from_iterable(izip([range(len(a))] * len(a), mean_angular_error, colours)))\n",
      "\n",
      "plt.figure()\n",
      "plt.plot(*lines)\n",
      "plt.xticks(range(len(a)), a)\n",
      "plt.ylabel('Mean degrees error')\n",
      "plt.xlabel('Subject ID')\n",
      "plt.legend(['AEP', 'IP', 'PGA', 'SPHERICAL'], loc=2)"
     ],
     "language": "python",
     "metadata": {},
     "outputs": []
    },
    {
     "cell_type": "code",
     "collapsed": false,
     "input": [
      "from pybug.io import auto_import\n",
      "from pybug.landmark import labeller, ibug_68_closed_mouth\n",
      "from scipy.io import savemat\n",
      "import numpy as np\n",
      "import cPickle\n",
      "from surface_reconstruction import frankotchellappa\n",
      "from pybug.image import MaskedNDImage\n",
      "\n",
      "bej = auto_import('/vol/atlas/databases/alex_images/bej1.bmp')[0].as_greyscale()\n",
      "labeller([bej], 'PTS', ibug_68_closed_mouth)\n",
      "\n",
      "bej.crop_to_landmarks(group='ibug_68_closed_mouth', label='all')\n",
      "bej.constrain_mask_to_landmarks(group='ibug_68_closed_mouth', label='all')\n",
      "\n",
      "with open('/vol/atlas/pts08/cvpr/frgc_spring2003_sfs_tps_bej_normal.pkl', 'rb') as f:\n",
      "    model = cPickle.load(f)\n",
      "\n",
      "\n",
      "mean_normals_bej = model['mean_normals']\n",
      "mean_normals_image = MaskedNDImage.blank(bej.shape, mask=bej.mask)\n",
      "mean_normals_image = mean_normals_image.from_vector(mean_normals_bej, n_channels=3)\n",
      "depth = frankotchellappa(-mean_normals_image.pixels[..., 0], mean_normals_image.pixels[..., 1])\n",
      "\n",
      "savemat('/home/pts08/research/sfs/celebrities/bej.mat', {'img': np.asfortranarray(np.squeeze(bej.pixels)), \n",
      "                                                         'mask': np.asfortranarray(bej.mask.pixels.astype(np.float)),\n",
      "                                                         'initial_shape': np.asfortranarray(depth)})"
     ],
     "language": "python",
     "metadata": {},
     "outputs": []
    }
   ],
   "metadata": {}
  }
 ]
}