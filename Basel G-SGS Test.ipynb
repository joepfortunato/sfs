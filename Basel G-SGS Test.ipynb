{
 "metadata": {
  "name": ""
 },
 "nbformat": 3,
 "nbformat_minor": 0,
 "worksheets": [
  {
   "cells": [
    {
     "cell_type": "code",
     "collapsed": false,
     "input": [
      "import cPickle\n",
      "\n",
      "with open('/vol/data/basel_sfs_normal_sim', 'rb') as f:\n",
      "    model = cPickle.load(f)\n",
      "\n",
      "normal_model = model['appearance_model']\n",
      "reference_frame = model['template']\n",
      "\n",
      "with open('/vol/atlas/pts08/basel_python_4.pkl', 'rb') as f:\n",
      "    test_set = cPickle.load(f)"
     ],
     "language": "python",
     "metadata": {},
     "outputs": []
    },
    {
     "cell_type": "code",
     "collapsed": false,
     "input": [
      "from pybug.io import auto_import\n",
      "\n",
      "intensity_image = auto_import('/vol/atlas/databases/alex_images/bln1.bmp')[0].as_greyscale()\n",
      "intensity_image.landmarks['IBUG'] = intensity_image.landmarks['PTS']"
     ],
     "language": "python",
     "metadata": {},
     "outputs": []
    },
    {
     "cell_type": "code",
     "collapsed": false,
     "input": [
      "from pybug.image import MaskedNDImage\n",
      "\n",
      "bln = auto_import('/vol/atlas/databases/alex_images/bln*.ppm')\n",
      "# Create a 4 channel image where each channel is the greyscale of an image\n",
      "ground_truth_images = MaskedNDImage(np.concatenate([im.as_greyscale().pixels for im in bln], axis=2))\n",
      "\n",
      "lights = np.array([[ 0.5,  0.4, 2],\n",
      "                   [-0.5,  0.4, 2],\n",
      "                   [-0.5, -0.4, 2],\n",
      "                   [ 0.5, -0.4, 2]])"
     ],
     "language": "python",
     "metadata": {},
     "outputs": []
    },
    {
     "cell_type": "code",
     "collapsed": false,
     "input": [
      "from pybug.transform import SimilarityTransform\n",
      "from pybug.shape import PointCloud\n",
      "\n",
      "L_E_X = intensity_image.landmarks['IBUG'].lms.points[1, 1]\n",
      "L_E_Y = intensity_image.landmarks['IBUG'].lms.points[1, 0]\n",
      "\n",
      "R_E_X = intensity_image.landmarks['IBUG'].lms.points[2, 1]\n",
      "R_E_Y = intensity_image.landmarks['IBUG'].lms.points[2, 0]\n",
      "\n",
      "Nose_X = intensity_image.landmarks['IBUG'].lms.points[0, 1]\n",
      "Nose_Y = intensity_image.landmarks['IBUG'].lms.points[0, 0]\n",
      "\n",
      "Low_X = intensity_image.landmarks['IBUG'].lms.points[3, 1]\n",
      "Low_Y= intensity_image.landmarks['IBUG'].lms.points[3, 0]\n",
      "\n",
      "original_landmarks = np.array([[L_E_Y, L_E_X], \n",
      "                               [Nose_Y, Nose_X], \n",
      "                               [Low_Y, Low_X], \n",
      "                               [R_E_Y, R_E_X]])\n",
      "\n",
      "# Build the template face (xs)\n",
      "disC1 = 40\n",
      "disC3 = 90\n",
      "disC2 = 65\n",
      "L_E_X = 10\n",
      "R_E_X = L_E_X + disC3 + disC1\n",
      "Nose_X = L_E_X + disC2\n",
      "Low_X = L_E_X + disC2\n",
      "\n",
      "# Build the template face (ys)\n",
      "disR1 = 0 \n",
      "disR3 = 0 \n",
      "disR2 = 60\n",
      "L_E_Y = 40\n",
      "R_E_Y = L_E_Y + disR3 + disR1\n",
      "Nose_Y = L_E_Y + disR2\n",
      "Low_Y = L_E_Y + 2 * disR2\n",
      "\n",
      "face_template = np.array([[L_E_Y, L_E_X], \n",
      "                          [Nose_Y, Nose_X], \n",
      "                          [Low_Y, Low_X], \n",
      "                          [R_E_Y, R_E_X]])\n",
      "tr = SimilarityTransform.align(PointCloud(face_template), PointCloud(original_landmarks))"
     ],
     "language": "python",
     "metadata": {},
     "outputs": []
    },
    {
     "cell_type": "code",
     "collapsed": false,
     "input": [
      "from pybug.transform import SimilarityTransform\n",
      "from pybug.image import MaskedNDImage, IntensityImage\n",
      "\n",
      "warped_intensity_image = intensity_image.warp_to(reference_frame.mask, tr)\n",
      "warped_ground_truth_image = ground_truth_images.warp_to(reference_frame.mask, tr)"
     ],
     "language": "python",
     "metadata": {},
     "outputs": []
    },
    {
     "cell_type": "code",
     "collapsed": false,
     "input": [
      "from photometric_stereo import photometric_stereo as ps\n",
      "\n",
      "ground_truth_normals, ground_truth_albedo = ps(warped_ground_truth_image, lights)"
     ],
     "language": "python",
     "metadata": {},
     "outputs": []
    },
    {
     "cell_type": "code",
     "collapsed": false,
     "input": [
      "from pybug.image import MaskedNDImage\n",
      "from geometric_sfs import geometric_sfs as sfs\n",
      "from vector_utils import normalise_vector\n",
      "\n",
      "warped_intensity_image = MaskedNDImage(warped_intensity_image.pixels, mask=warped_intensity_image.mask)\n",
      "reconstructed_normals = sfs(warped_intensity_image, normal_model, np.array([0.5,  0.4, 2]), max_iters=200)"
     ],
     "language": "python",
     "metadata": {},
     "outputs": []
    },
    {
     "cell_type": "code",
     "collapsed": false,
     "input": [
      "from pybug.visualize.viewmayavi import MayaviVectorViewer3d\n",
      "import mayavi.mlab as mlab\n",
      "\n",
      "reconstructed_normals.view_new(channel=0)\n",
      "ground_truth_normals.view_new(channel=0)"
     ],
     "language": "python",
     "metadata": {},
     "outputs": []
    },
    {
     "cell_type": "code",
     "collapsed": false,
     "input": [
      "def gradient_field_from_normals(normals):\n",
      "    vector = normals.as_vector(keep_channels=True)\n",
      "    \n",
      "    gradient_field = np.zeros([vector.shape[0], 2])\n",
      "    gradient_field[:, 0] = vector[:, 0] / vector[:, 2]\n",
      "    gradient_field[:, 1] = vector[:, 1] / vector[:, 2]\n",
      "    gradient_field[np.isinf(gradient_field)] = 0.0\n",
      "    gradient_field[np.isnan(gradient_field)] = 0.0\n",
      "    \n",
      "    return normals.from_vector(gradient_field, n_channels=2)"
     ],
     "language": "python",
     "metadata": {},
     "outputs": []
    },
    {
     "cell_type": "code",
     "collapsed": false,
     "input": [
      "from surface_reconstruction import frankotchellappa\n",
      "\n",
      "gradient_field_image = gradient_field_from_normals(reconstructed_normals)\n",
      "recovered_depth = frankotchellappa(reconstructed_normals.pixels[:, :, 0], reconstructed_normals.pixels[:, :, 1])"
     ],
     "language": "python",
     "metadata": {},
     "outputs": []
    },
    {
     "cell_type": "code",
     "collapsed": false,
     "input": [
      "gradient_field_image = gradient_field_from_normals(ground_truth_normals)\n",
      "ground_truth_depth = frankotchellappa(ground_truth_normals.pixels[:, :, 0], ground_truth_normals.pixels[:, :, 1])"
     ],
     "language": "python",
     "metadata": {},
     "outputs": []
    },
    {
     "cell_type": "code",
     "collapsed": false,
     "input": [
      "from pybug.image import DepthImage, RGBImage\n",
      "temp_texture = np.concatenate([warped_intensity_image.pixels]*3, axis=2)\n",
      "\n",
      "recovered_depth_image = DepthImage((recovered_depth - np.min(recovered_depth)) / 2, texture=RGBImage(temp_texture))\n",
      "ground_truth_depth_image = DepthImage((ground_truth_depth - np.min(ground_truth_depth)) / 2, texture=RGBImage(temp_texture))"
     ],
     "language": "python",
     "metadata": {},
     "outputs": []
    },
    {
     "cell_type": "code",
     "collapsed": false,
     "input": [
      "recovered_depth_image.view_new(mode='mesh')\n",
      "ground_truth_depth_image.view_new(mode='mesh')"
     ],
     "language": "python",
     "metadata": {},
     "outputs": []
    }
   ],
   "metadata": {}
  }
 ]
}