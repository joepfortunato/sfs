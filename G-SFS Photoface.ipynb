{
 "metadata": {
  "name": ""
 },
 "nbformat": 3,
 "nbformat_minor": 0,
 "worksheets": [
  {
   "cells": [
    {
     "cell_type": "code",
     "collapsed": false,
     "input": [
      "import cPickle\n",
      "from copy import deepcopy\n",
      "\n",
      "with open('/vol/data/frgc_spring2003_sfs_spherical_tps', 'rb') as f:\n",
      "    model = cPickle.load(f)\n",
      "\n",
      "normal_model = model['appearance_model']\n",
      "reference_frame = model['template']\n",
      "mean_normals = model['mean_normals']\n",
      "reference_frame = model['template']\n",
      "try:\n",
      "    intrinsic_mean_normals = model['intrinsic_mean_normals']\n",
      "except Exception:\n",
      "    pass"
     ],
     "language": "python",
     "metadata": {},
     "outputs": []
    },
    {
     "cell_type": "code",
     "collapsed": false,
     "input": [
      "from pybug.image import MaskedNDImage\n",
      "from pybug.io import auto_import\n",
      "from pybug.landmark import labeller, ibug_68_closed_mouth\n",
      "from landmarks import ibug_68_edge\n",
      "\n",
      "bej = auto_import('/vol/atlas/databases/alex_images/bej*.ppm')\n",
      "# Create a 4 channel image where each channel is the greyscale of an image\n",
      "ground_truth_images = MaskedNDImage(np.concatenate([im.as_greyscale().pixels for im in bej], axis=2))\n",
      "intensity_image = bej[0].as_greyscale()\n",
      "\n",
      "ground_truth_images.landmarks['PTS'] = intensity_image.landmarks['PTS']\n",
      "\n",
      "labeller([ground_truth_images, intensity_image], 'PTS', ibug_68_closed_mouth)\n",
      "# labeller([ground_truth_images, intensity_image], 'PTS', ibug_68_edge)\n",
      "\n",
      "lights = np.array([[ 0.5,  0.4, 2],\n",
      "                   [-0.5,  0.4, 2],\n",
      "                   [-0.5, -0.4, 2],\n",
      "                   [ 0.5, -0.4, 2]])"
     ],
     "language": "python",
     "metadata": {},
     "outputs": []
    },
    {
     "cell_type": "code",
     "collapsed": false,
     "input": [
      "from pybug.transform.tps import TPS\n",
      "from warp import build_similarity_transform\n",
      "# tr = build_similarity_transform(intensity_image.landmarks['ibug_68_edge'].lms)\n",
      "tr = TPS(reference_frame.landmarks['ibug_68_closed_mouth'].lms, intensity_image.landmarks['ibug_68_closed_mouth'].lms)"
     ],
     "language": "python",
     "metadata": {},
     "outputs": []
    },
    {
     "cell_type": "code",
     "collapsed": false,
     "input": [
      "from pybug.transform import SimilarityTransform\n",
      "from pybug.image import MaskedNDImage, IntensityImage\n",
      "\n",
      "warped_intensity_image = intensity_image.warp_to(reference_frame.mask, tr)\n",
      "warped_ground_truth_image = ground_truth_images.warp_to(reference_frame.mask, tr)\n",
      "\n",
      "warped_intensity_image = MaskedNDImage(warped_intensity_image.pixels, mask=warped_intensity_image.mask)\n",
      "warped_intensity_image.view()"
     ],
     "language": "python",
     "metadata": {},
     "outputs": []
    },
    {
     "cell_type": "code",
     "collapsed": false,
     "input": [
      "from scipy.linalg import pinv2\n",
      "n = normal_model.mean.as_vector(keep_channels=True)\n",
      "I = warped_intensity_image.as_vector()\n",
      "estimate_light = np.dot(pinv2(n), I)\n",
      "# Use ground truth light\n",
      "estimate_light = lights[0, :]\n",
      "print estimate_light"
     ],
     "language": "python",
     "metadata": {},
     "outputs": []
    },
    {
     "cell_type": "code",
     "collapsed": false,
     "input": [
      "from photometric_stereo import photometric_stereo as ps\n",
      "\n",
      "ground_truth_normals, ground_truth_albedo = ps(warped_ground_truth_image, lights)"
     ],
     "language": "python",
     "metadata": {},
     "outputs": []
    },
    {
     "cell_type": "code",
     "collapsed": false,
     "input": [
      "from pybug.image import MaskedNDImage\n",
      "from scipy.ndimage.filters import gaussian_filter, median_filter\n",
      "from geometric_sfs import geometric_sfs as sfs\n",
      "from mapping import AEP, PGA, Spherical, ImageMapper, IdentityMapper\n",
      "# mapping_object = ImageMapper(PGA(intrinsic_mean_normals.as_vector(keep_channels=True)))\n",
      "mapping_object = ImageMapper(Spherical())\n",
      "\n",
      "warped_intensity_image = MaskedNDImage(warped_intensity_image.pixels, mask=warped_intensity_image.mask)\n",
      "# warped_intensity_image.pixels = gaussian_filter(warped_intensity_image.pixels, 3.0)\n",
      "# Normalise the image so that it has unit albedo?\n",
      "# warped_intensity_image.masked_pixels /= ground_truth_albedo.masked_pixels\n",
      "# warped_intensity_image.masked_pixels /= np.max(warped_intensity_image.masked_pixels)\n",
      "reconstructed_normals = sfs(warped_intensity_image, mean_normals, normal_model, estimate_light, n_iters=40, mapping_object=mapping_object)"
     ],
     "language": "python",
     "metadata": {},
     "outputs": []
    },
    {
     "cell_type": "code",
     "collapsed": false,
     "input": [
      "from geometric_sfs import horn_brooks\n",
      "reconstructed_normals_horn = horn_brooks(warped_intensity_image, mean_normals, normal_model, estimate_light, n_iters=100, c_lambda=10, mapping_object=mapping_object)"
     ],
     "language": "python",
     "metadata": {},
     "outputs": []
    },
    {
     "cell_type": "code",
     "collapsed": false,
     "input": [
      "from pybug.visualize.viewmayavi import MayaviVectorViewer3d\n",
      "from pybug.image import DepthImage, RGBImage\n",
      "\n",
      "reconstructed_normals.view_new(channel=0)\n",
      "ground_truth_normals.view_new(channel=0)\n",
      "reconstructed_normals_horn.view_new(channel=0)\n",
      "\n",
      "temp_texture = np.concatenate([warped_intensity_image.pixels]*3, axis=2)"
     ],
     "language": "python",
     "metadata": {},
     "outputs": []
    },
    {
     "cell_type": "code",
     "collapsed": false,
     "input": [
      "from surface_reconstruction import frankotchellappa\n",
      "# If we use gradient fields then we don't need to negate the x-axis\n",
      "recovered_depth = frankotchellappa(-reconstructed_normals.pixels[:, :, 0], reconstructed_normals.pixels[:, :, 1])\n",
      "recovered_depth_image = DepthImage((recovered_depth - np.min(recovered_depth)), texture=RGBImage(temp_texture))\n",
      "recovered_depth_image.view_new(mode='mesh')"
     ],
     "language": "python",
     "metadata": {},
     "outputs": []
    },
    {
     "cell_type": "code",
     "collapsed": false,
     "input": [
      "ground_truth_depth = frankotchellappa(ground_truth_normals.pixels[:, :, 0], ground_truth_normals.pixels[:, :, 1])\n",
      "ground_truth_depth_image = DepthImage(ground_truth_depth - np.min(ground_truth_depth), texture=RGBImage(temp_texture))\n",
      "ground_truth_depth_image.view_new(mode='mesh')"
     ],
     "language": "python",
     "metadata": {},
     "outputs": []
    },
    {
     "cell_type": "code",
     "collapsed": false,
     "input": [
      "recovered_depth_horn = frankotchellappa(-reconstructed_normals_horn.pixels[:, :, 0], reconstructed_normals_horn.pixels[:, :, 1])\n",
      "recovered_depth_horn_image = DepthImage((recovered_depth_horn - np.min(recovered_depth_horn)), texture=RGBImage(temp_texture))\n",
      "recovered_depth_horn_image.view_new(mode='mesh')"
     ],
     "language": "python",
     "metadata": {},
     "outputs": []
    },
    {
     "cell_type": "code",
     "collapsed": false,
     "input": [
      "mlab.view(azimuth=35, elevation=40, distance=500)\n",
      "mlab.savefig('/vol/atlas/pts08/cvpr/bej.png', size=(512, 512))"
     ],
     "language": "python",
     "metadata": {},
     "outputs": []
    }
   ],
   "metadata": {}
  }
 ]
}