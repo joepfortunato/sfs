{
 "metadata": {
  "name": ""
 },
 "nbformat": 3,
 "nbformat_minor": 0,
 "worksheets": [
  {
   "cells": [
    {
     "cell_type": "code",
     "collapsed": false,
     "input": [
      "import cPickle\n",
      "from copy import deepcopy\n",
      "\n",
      "with open('/vol/atlas/pts08/cvpr/frgc_spring2003_sfs_tps_bej_spherical.pkl', 'rb') as f:\n",
      "    model = cPickle.load(f)\n",
      "\n",
      "\n",
      "normal_model = model['appearance_model']\n",
      "reference_frame = model['template']\n",
      "mean_normals = model['mean_normals']\n",
      "reference_frame = model['template']\n",
      "try:\n",
      "    intrinsic_mean_normals = model['intrinsic_mean_normals']\n",
      "except Exception:\n",
      "    pass"
     ],
     "language": "python",
     "metadata": {},
     "outputs": []
    },
    {
     "cell_type": "code",
     "collapsed": false,
     "input": [
      "from pybug.image import DepthImage\n",
      "from surface_reconstruction import frankotchellappa\n",
      "import mayavi.mlab as mlab\n",
      "\n",
      "depth = frankotchellappa(-mean_normals.pixels[:, :, 0], mean_normals.pixels[:, :, 1])\n",
      "depth = DepthImage(depth, mask=mean_normals.mask)\n",
      "\n",
      "normals = mean_normals.as_vector(keep_channels=True)\n",
      "# normals[:, [0, 1]] = normals[:, [1, 0]]\n",
      "depth.view(mode='mesh', normals=normals, mask_points=20)\n",
      "\n",
      "# points = np.meshgrid(np.arange(depth.shape[1]), np.arange(depth.shape[0]))\n",
      "# points = [p[mean_normals.mask.mask] for p in points]\n",
      "# points = np.hstack([p.flatten()[..., None] for p in points] + [np.zeros_like(points[0].flatten()[..., None])])\n",
      "\n",
      "# mlab.quiver3d(points[:, 0],\n",
      "#               points[:, 1],\n",
      "#               points[:, 2],\n",
      "#               normals[:, 0],\n",
      "#               normals[:, 1],\n",
      "#               normals[:, 2],\n",
      "#               mask_points=20)\n",
      "\n",
      "# normals = depth.mesh.vertex_normals\n",
      "# mlab.figure()\n",
      "# mlab.quiver3d(points[:, 0],\n",
      "#               points[:, 1],\n",
      "#               points[:, 2],\n",
      "#               normals[:, 0],\n",
      "#               normals[:, 1],\n",
      "#               normals[:, 2],\n",
      "#               mask_points=20)"
     ],
     "language": "python",
     "metadata": {},
     "outputs": []
    },
    {
     "cell_type": "code",
     "collapsed": false,
     "input": [
      "print depth.mesh.vertex_normals\n",
      "print mean_normals.as_vector(keep_channels=True)"
     ],
     "language": "python",
     "metadata": {},
     "outputs": []
    },
    {
     "cell_type": "code",
     "collapsed": false,
     "input": [
      "from pybug.image import MaskedNDImage\n",
      "from pybug.io import auto_import\n",
      "from pybug.landmark import labeller, ibug_68_closed_mouth\n",
      "from landmarks import ibug_68_edge\n",
      "\n",
      "sfs_index = 2\n",
      "bej = auto_import('/vol/atlas/databases/alex_images/bej*.ppm')\n",
      "# Create a 4 channel image where each channel is the greyscale of an image\n",
      "ground_truth_images = MaskedNDImage(np.concatenate([im.as_greyscale().pixels for im in bej], axis=2))\n",
      "intensity_image = bej[sfs_index].as_greyscale()\n",
      "\n",
      "intensity_image.landmarks = bej[0].landmarks\n",
      "ground_truth_images.landmarks['PTS'] = bej[0].landmarks['PTS']\n",
      "\n",
      "labeller([ground_truth_images, intensity_image], 'PTS', ibug_68_closed_mouth)\n",
      "# labeller([ground_truth_images, intensity_image], 'PTS', ibug_68_edge)\n",
      "\n",
      "lights = np.array([[ 0.5,  0.4, 2],\n",
      "                   [-0.5,  0.4, 2],\n",
      "                   [-0.5, -0.4, 2],\n",
      "                   [ 0.5, -0.4, 2]])"
     ],
     "language": "python",
     "metadata": {},
     "outputs": []
    },
    {
     "cell_type": "code",
     "collapsed": false,
     "input": [
      "from pybug.transform.tps import TPS\n",
      "from warp import build_similarity_transform\n",
      "# tr = build_similarity_transform(intensity_image.landmarks['ibug_68_edge'].lms)\n",
      "tr = TPS(reference_frame.landmarks['ibug_68_closed_mouth'].lms, intensity_image.landmarks['ibug_68_closed_mouth'].lms)"
     ],
     "language": "python",
     "metadata": {},
     "outputs": []
    },
    {
     "cell_type": "code",
     "collapsed": false,
     "input": [
      "reference_frame.mask.shape "
     ],
     "language": "python",
     "metadata": {},
     "outputs": []
    },
    {
     "cell_type": "code",
     "collapsed": false,
     "input": [
      "from pybug.transform import SimilarityTransform\n",
      "from pybug.image import MaskedNDImage, IntensityImage\n",
      "\n",
      "warped_intensity_image = intensity_image.warp_to(reference_frame.mask, tr)\n",
      "warped_ground_truth_image = ground_truth_images.warp_to(reference_frame.mask, tr)\n",
      "\n",
      "warped_intensity_image = MaskedNDImage(warped_intensity_image.pixels, mask=warped_intensity_image.mask)\n",
      "\n",
      "if isinstance(mean_normals, np.ndarray):\n",
      "    mean_normals = warped_intensity_image.from_vector(mean_normals, n_channels=3)\n",
      "\n",
      "warped_intensity_image.view()"
     ],
     "language": "python",
     "metadata": {},
     "outputs": []
    },
    {
     "cell_type": "code",
     "collapsed": false,
     "input": [
      "mean_depth = frankotchellappa(-mean_normals.pixels[:, :, 0], mean_normals.pixels[:, :, 1])\n",
      "scipy.io.savemat('/home/pts08/research/sfs/SIRFS_release1.2/bej.mat', \n",
      "                 {'bej': np.squeeze(warped_intensity_image.pixels),\n",
      "                  'mask': warped_intensity_image.mask.pixels.astype(np.uint32),\n",
      "                  'intitial_shape': mean_depth})"
     ],
     "language": "python",
     "metadata": {},
     "outputs": []
    },
    {
     "cell_type": "code",
     "collapsed": false,
     "input": [
      "# Use ground truth light\n",
      "# estimate_light = lights[sfs_index, :]\n",
      "estimate_light = lights\n",
      "print estimate_light"
     ],
     "language": "python",
     "metadata": {},
     "outputs": []
    },
    {
     "cell_type": "code",
     "collapsed": false,
     "input": [
      "from photometric_stereo import photometric_stereo as ps\n",
      "\n",
      "ground_truth_normals, ground_truth_albedo = ps(warped_ground_truth_image, lights)"
     ],
     "language": "python",
     "metadata": {},
     "outputs": []
    },
    {
     "cell_type": "code",
     "collapsed": false,
     "input": [
      "from pybug.image import MaskedNDImage\n",
      "from scipy.ndimage.filters import gaussian_filter, median_filter\n",
      "from geometric_sfs import geometric_sfs as sfs\n",
      "from mapping import AEP, PGA, Spherical, ImageMapper, IdentityMapper\n",
      "# mapping_object = ImageMapper(PGA(intrinsic_mean_normals.as_vector(keep_channels=True)))\n",
      "mapping_object = ImageMapper(Spherical())\n",
      "\n",
      "input_image = MaskedNDImage(warped_intensity_image.pixels.copy(), mask=warped_intensity_image.mask)\n",
      "# mean_normals_image = warped_intensity_image.from_vector(mean_normals, n_channels=3)\n",
      "# Normalise the image so that it has unit albedo?\n",
      "# input_image.masked_pixels /= ground_truth_albedo.masked_pixels\n",
      "# input_image.masked_pixels /= np.max(input_image.masked_pixels)\n",
      "reconstructed_normals = sfs(input_image, mean_normals, normal_model, estimate_light, n_iters=1, mapping_object=mapping_object)"
     ],
     "language": "python",
     "metadata": {},
     "outputs": []
    },
    {
     "cell_type": "code",
     "collapsed": false,
     "input": [
      "# from geometric_sfs import horn_brooks\n",
      "# reconstructed_normals_horn = horn_brooks(warped_intensity_image, mean_normals, normal_model, estimate_light, n_iters=100, c_lambda=10, mapping_object=mapping_object)"
     ],
     "language": "python",
     "metadata": {},
     "outputs": []
    },
    {
     "cell_type": "code",
     "collapsed": false,
     "input": [
      "from pybug.image import DepthImage, RGBImage\n",
      "temp_texture = np.concatenate([warped_intensity_image.pixels]*3, axis=2)"
     ],
     "language": "python",
     "metadata": {},
     "outputs": []
    },
    {
     "cell_type": "code",
     "collapsed": false,
     "input": [
      "# from surface_reconstruction import frankotchellappa\n",
      "# # If we use gradient fields then we don't need to negate the x-axis\n",
      "# recovered_depth = frankotchellappa(-reconstructed_normals.pixels[:, :, 0], reconstructed_normals.pixels[:, :, 1])\n",
      "# recovered_depth_image = DepthImage((recovered_depth - np.min(recovered_depth)))\n",
      "# recovered_depth_image.view_new(mode='mesh')"
     ],
     "language": "python",
     "metadata": {},
     "outputs": []
    },
    {
     "cell_type": "code",
     "collapsed": false,
     "input": [
      "from surface_reconstruction import frankotchellappa, gradient_field_from_normals\n",
      "# If we use gradient fields then we don't need to negate the x-axis\n",
      "g = gradient_field_from_normals(reconstructed_normals)\n",
      "g = reconstructed_normals\n",
      "recovered_depth = frankotchellappa(-g.pixels[:, :, 0], g.pixels[:, :, 1])\n",
      "recovered_depth_image = DepthImage((recovered_depth - np.min(recovered_depth)) / 1.3, mask=warped_intensity_image.mask)\n",
      "recovered_depth_image.view_new(mode='mesh')"
     ],
     "language": "python",
     "metadata": {},
     "outputs": []
    },
    {
     "cell_type": "code",
     "collapsed": false,
     "input": [
      "ground_truth_depth = frankotchellappa(ground_truth_normals.pixels[:, :, 0], ground_truth_normals.pixels[:, :, 1])\n",
      "ground_truth_depth_image = DepthImage((ground_truth_depth - np.min(ground_truth_depth)) / 1.3)\n",
      "ground_truth_depth_image.view_new(mode='mesh')"
     ],
     "language": "python",
     "metadata": {},
     "outputs": []
    },
    {
     "cell_type": "code",
     "collapsed": false,
     "input": [
      "# recovered_depth_horn = frankotchellappa(-reconstructed_normals_horn.pixels[:, :, 0], reconstructed_normals_horn.pixels[:, :, 1])\n",
      "# recovered_depth_horn_image = DepthImage((recovered_depth_horn - np.min(recovered_depth_horn)), texture=RGBImage(temp_texture))\n",
      "# recovered_depth_horn_image.view_new(mode='mesh')"
     ],
     "language": "python",
     "metadata": {},
     "outputs": []
    },
    {
     "cell_type": "code",
     "collapsed": false,
     "input": [
      "mlab.view(azimuth=35, elevation=40, distance=500)\n",
      "mlab.savefig('/vol/atlas/pts08/cvpr/bej.png', size=(512, 512))"
     ],
     "language": "python",
     "metadata": {},
     "outputs": []
    }
   ],
   "metadata": {}
  }
 ]
}