{
 "metadata": {
  "name": ""
 },
 "nbformat": 3,
 "nbformat_minor": 0,
 "worksheets": [
  {
   "cells": [
    {
     "cell_type": "code",
     "collapsed": false,
     "input": [
      "import cPickle\n",
      "from pybug.image import MaskedNDImage, DepthImage\n",
      "from pybug.io import auto_import\n",
      "from pybug.landmark import labeller, ibug_68_closed_mouth\n",
      "from photometric_stereo import photometric_stereo as ps\n",
      "from surface_reconstruction import frankotchellappa, gradient_field_from_normals\n",
      "\n",
      "subject_id = 'samuel_beckett'\n",
      "feature_space = 'spherical'"
     ],
     "language": "python",
     "metadata": {},
     "outputs": []
    },
    {
     "cell_type": "code",
     "collapsed": false,
     "input": [
      "from mapping import ImageMapper, AEP, PGA, IdentityMapper, Spherical\n",
      "\n",
      "def build_mapping_object(feature_space, mean_normals, intrinsic_normals):\n",
      "    if feature_space == 'aep':\n",
      "        mapping_object = ImageMapper(AEP(\n",
      "            mean_normals.as_vector(keep_channels=True)))\n",
      "    elif feature_space == 'pga':\n",
      "        mapping_object = ImageMapper(PGA(\n",
      "            intrinsic_normals.as_vector(keep_channels=True)))\n",
      "    elif feature_space == 'normal':\n",
      "        mapping_object = ImageMapper(IdentityMapper())\n",
      "    elif feature_space == 'cosine':\n",
      "        mapping_object = ImageMapper(IdentityMapper())\n",
      "    elif feature_space == 'spherical':\n",
      "        mapping_object = ImageMapper(Spherical())\n",
      "    else:\n",
      "        raise ValueError('Unrecognised feature space!')\n",
      "\n",
      "    return mapping_object"
     ],
     "language": "python",
     "metadata": {},
     "outputs": []
    },
    {
     "cell_type": "code",
     "collapsed": false,
     "input": [
      "lights = np.array([[ 0.5,  0.4, 2],\n",
      "                   [-0.5,  0.4, 2],\n",
      "                   [-0.5, -0.4, 2],\n",
      "                   [ 0.5, -0.4, 2]])\n",
      "lights[:, 0] = -lights[:, 0]"
     ],
     "language": "python",
     "metadata": {},
     "outputs": []
    },
    {
     "cell_type": "code",
     "collapsed": false,
     "input": [
      "model_path = '/vol/atlas/pts08/cvpr/frgc_spring2003_sfs_tps_{0}_{1}.pkl'.format(subject_id, feature_space)\n",
      "with open(model_path, 'rb') as f:\n",
      "    model = cPickle.load(f)\n",
      "\n",
      "normal_model = model['appearance_model']\n",
      "reference_frame = model['template']\n",
      "mean_normals = model['mean_normals']\n",
      "reference_frame = model['template']\n",
      "try:\n",
      "    intrinsic_mean_normals = model['intrinsic_mean_normals']\n",
      "except Exception:\n",
      "    intrinsic_mean_normals = None\n",
      "    \n",
      "mean_normal_image = MaskedNDImage.blank(reference_frame.shape, mask=reference_frame.mask)\n",
      "mean_normals = mean_normal_image.from_vector(mean_normals, n_channels=3)"
     ],
     "language": "python",
     "metadata": {},
     "outputs": []
    },
    {
     "cell_type": "code",
     "collapsed": false,
     "input": [
      "subject_images = auto_import('/home/pts08/research/sfs/celebrities/{0}.png'.format(subject_id))\n",
      "\n",
      "# Choose the third image as the reconstruction candidate\n",
      "intensity_image = subject_images[0].as_greyscale()\n",
      "# The first image is the only landmarked one\n",
      "intensity_image.landmarks = subject_images[0].landmarks\n",
      "\n",
      "# Label with correct labels\n",
      "labeller([intensity_image],\n",
      "         'PTS', ibug_68_closed_mouth)\n",
      "\n",
      "# Constrain to mask\n",
      "intensity_image.constrain_mask_to_landmarks(\n",
      "    group='ibug_68_closed_mouth', label='all')\n",
      "intensity_image.crop_to_landmarks(group='ibug_68_closed_mouth',\n",
      "                                  label='all', boundary=2)"
     ],
     "language": "python",
     "metadata": {},
     "outputs": []
    },
    {
     "cell_type": "code",
     "collapsed": false,
     "input": [
      "subject_images = auto_import('/vol/atlas/databases/alex_images/{0}*.ppm'.format(subject_id))\n",
      "# Create a 4 channel image where each channel is the greyscale of an image\n",
      "ground_truth_images = MaskedNDImage(\n",
      "    np.concatenate([im.as_greyscale().pixels\n",
      "                    for im in subject_images], axis=2))\n",
      "\n",
      "# Choose the third image as the reconstruction candidate\n",
      "intensity_image = subject_images[2].as_greyscale()\n",
      "# The first image is the only landmarked one\n",
      "intensity_image.landmarks = subject_images[0].landmarks\n",
      "\n",
      "# Pass landmarks to all ground truth images\n",
      "ground_truth_images.landmarks['PTS'] = intensity_image.landmarks['PTS']\n",
      "\n",
      "# Label with correct labels\n",
      "labeller([ground_truth_images, intensity_image],\n",
      "         'PTS', ibug_68_closed_mouth)\n",
      "\n",
      "# Constrain to mask\n",
      "ground_truth_images.constrain_mask_to_landmarks(\n",
      "    group='ibug_68_closed_mouth', label='all')\n",
      "intensity_image.constrain_mask_to_landmarks(\n",
      "    group='ibug_68_closed_mouth', label='all')\n",
      "intensity_image.crop_to_landmarks(group='ibug_68_closed_mouth',\n",
      "                                  label='all', boundary=2)\n",
      "ground_truth_images.crop_to_landmarks(group='ibug_68_closed_mouth',\n",
      "                                      label='all', boundary=2)"
     ],
     "language": "python",
     "metadata": {},
     "outputs": []
    },
    {
     "cell_type": "code",
     "collapsed": false,
     "input": [
      "fig1 = plt.figure(1)\n",
      "xPix = 265.0\n",
      "yPix = 340.0\n",
      "\n",
      "xSize = 2.64 # inches\n",
      "ySize = 3.4\n",
      "intensity_image.view(figure=fig1)\n",
      "plt.gray()\n",
      "plt.axis('off')\n",
      "rect = fig1.patch\n",
      "rect.set_facecolor('black')\n",
      "fig1.set_size_inches(xSize, ySize)\n",
      "    \n",
      "fig1.savefig('/vol/atlas/pts08/cvpr/results/celebrities/images/{0}.png'.format(subject_id),\n",
      "             facecolor=fig1.get_facecolor(), dpi=100, bbox_inches='tight', pad_inches=0)"
     ],
     "language": "python",
     "metadata": {},
     "outputs": []
    },
    {
     "cell_type": "code",
     "collapsed": false,
     "input": [
      "mlab.savefig('/vol/atlas/pts08/cvpr/results/photoface/images/{0}_{1}.png'.format(subject_id, 'sirfs'), size=(265, 340), figure=fig, magnification='auto')"
     ],
     "language": "python",
     "metadata": {},
     "outputs": []
    }
   ],
   "metadata": {}
  }
 ]
}