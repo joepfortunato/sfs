{
 "metadata": {
  "name": ""
 },
 "nbformat": 3,
 "nbformat_minor": 0,
 "worksheets": [
  {
   "cells": [
    {
     "cell_type": "code",
     "collapsed": false,
     "input": [
      "%load_ext cythonmagic"
     ],
     "language": "python",
     "metadata": {},
     "outputs": []
    },
    {
     "cell_type": "code",
     "collapsed": false,
     "input": [
      "%%cython\n",
      "\n",
      "import numpy as np\n",
      "import cython\n",
      "cimport numpy as np\n",
      "cimport cython\n",
      "from libc.math cimport sqrt\n",
      "\n",
      "@cython.boundscheck(False)\n",
      "cpdef rotate_north_pole(np.ndarray[np.float64_t, ndim=2] vector):\n",
      "    \"\"\"\n",
      "    Rotation matrix that rotates vector to the north pole.\n",
      "    Expects mean vector per point in face (N, 3)\n",
      "    \"\"\"\n",
      "    cdef int N = vector.shape[0]\n",
      "    cdef double[:, :, :] rotation_matrices = np.zeros([3, 3, N])\n",
      "    cdef double acangle, cosa, sina, vera, x, y, z, mag\n",
      "    cdef double norm_vector_x, norm_vector_y, norm_vector_z\n",
      "    cdef double eps = np.spacing(1)\n",
      "    \n",
      "    for i in range(N):\n",
      "        norm_vector_x = vector[i, 0]\n",
      "        norm_vector_y = vector[i, 1]\n",
      "        norm_vector_z = vector[i, 2]\n",
      "        \n",
      "        # Normalize base vector\n",
      "        mag = norm_vector_x * norm_vector_x + norm_vector_y * norm_vector_y + norm_vector_z * norm_vector_z\n",
      "        mag = sqrt(mag)\n",
      "        \n",
      "        norm_vector_x /= mag\n",
      "        norm_vector_y /= mag\n",
      "        norm_vector_z /= mag\n",
      "        \n",
      "        # Get the cosine and sine angle\n",
      "        cosa = norm_vector_z\n",
      "        sina = sqrt(1.0 - cosa * cosa)\n",
      "        \n",
      "        # Check for near zero angles\n",
      "        if (1.0 - cosa) > eps:\n",
      "            x = norm_vector_y / sina\n",
      "            y = -norm_vector_x / sina\n",
      "            z = 0.0\n",
      "        else:\n",
      "            x = 0.0\n",
      "            y = 0.0\n",
      "            z = 0.0\n",
      "        \n",
      "        # vercosine\n",
      "        vera = 1.0 - cosa\n",
      "    \n",
      "        # Build rotation matrix\n",
      "        rotation_matrices[ 0, 0,i] = cosa + x**2 * vera\n",
      "        rotation_matrices[ 0, 1,i] = x * y * vera - z * sina\n",
      "        rotation_matrices[ 0, 2,i] = x * z * vera + y * sina\n",
      "        \n",
      "        rotation_matrices[ 1, 0,i] = x * y * vera + z * sina\n",
      "        rotation_matrices[ 1, 1,i] = cosa + y**2 * vera\n",
      "        rotation_matrices[ 1, 2,i] = y * z * vera - x * sina\n",
      "        \n",
      "        rotation_matrices[ 2, 0,i] = x * z * vera - y * sina\n",
      "        rotation_matrices[ 2, 1,i] = y * z * vera + x * sina\n",
      "        rotation_matrices[ 2, 2,i] = cosa + z**2 * vera\n",
      "        \n",
      "    return rotation_matrices"
     ],
     "language": "python",
     "metadata": {},
     "outputs": []
    },
    {
     "cell_type": "code",
     "collapsed": false,
     "input": [
      "def logmap_northpole(base_vectors, sd_vectors):\n",
      "    # If we've been passed a single vector to map, then add the extra axis\n",
      "    # Number of sample first\n",
      "    if len(sd_vectors.shape) == 3:\n",
      "        vector_count = sd_vectors.shape[0]\n",
      "    else:\n",
      "        sd_vectors = sd_vectors[None, ...]\n",
      "        vector_count = 1\n",
      "        \n",
      "    vs = np.zeros([vector_count, sd_vectors.shape[1], sd_vectors.shape[2] - 1])\n",
      "    # Rotate the data around the mean point to a small circle centered at the North pole\n",
      "    rotation_matrices = rotate_north_pole(base_vectors)\n",
      "    \n",
      "    rotated_data = np.einsum('ijv, fvj -> fvi', rotation_matrices, sd_vectors)\n",
      "    \n",
      "    # Perform the North Pole Logmap\n",
      "    # theta / sin(theta)\n",
      "    scales = np.arccos(rotated_data[..., 2]) / np.sqrt(1.0 - rotated_data[..., 2]**2)\n",
      "    scales[np.isnan(scales)] = 1.0\n",
      "    # Build the column vector the transpose for correct ordering\n",
      "    vs = rotated_data * scales[..., None]\n",
      "        \n",
      "    return vs[..., :2]"
     ],
     "language": "python",
     "metadata": {},
     "outputs": []
    },
    {
     "cell_type": "code",
     "collapsed": false,
     "input": [
      "from vector_utils import row_norm\n",
      "\n",
      "def expmap_northpole(base_vectors, tangent_vectors):\n",
      "    # If we've been passed a single vector to map, then add the extra axis\n",
      "    # Number of sample first\n",
      "    if len(tangent_vectors.shape) == 3:\n",
      "        vector_count = tangent_vectors.shape[0]\n",
      "    else:\n",
      "        tangent_vectors = tangent_vectors[None, ...]\n",
      "        vector_count = 1\n",
      "        \n",
      "    ns = np.zeros([vector_count, tangent_vectors.shape[1], tangent_vectors.shape[2] + 1])\n",
      "    rotation_matrices = rotate_north_pole(base_vectors)\n",
      "        \n",
      "    # Expmap\n",
      "    v1  = tangent_vectors[..., 0]\n",
      "    v2  = tangent_vectors[..., 1]\n",
      "    normv = row_norm(tangent_vectors)\n",
      "    \n",
      "    exp = np.concatenate([(v1 * np.sin(normv) / normv)[..., None], \n",
      "                          (v2 * np.sin(normv) / normv)[..., None], \n",
      "                          np.cos(normv)[..., None]], axis=2)\n",
      "    near_zero_ind = normv < np.spacing(1)\n",
      "    exp[near_zero_ind, :] = [0.0, 0.0, 1.0]\n",
      "    \n",
      "    # Rotate back to geodesic mean from north pole\n",
      "    # Apply inverse rotation matrix due to data ordering\n",
      "    ns = np.einsum('fvi, ijv -> fvj', exp, rotation_matrices)\n",
      "\n",
      "    return ns"
     ],
     "language": "python",
     "metadata": {},
     "outputs": []
    },
    {
     "cell_type": "code",
     "collapsed": false,
     "input": [
      "from vector_utils import normalise_vector\n",
      "\n",
      "N = normalise_vector(np.random.uniform(low=-1.0, high=1.0, size=(200, 10000, 3)))\n",
      "bp = normalise_vector(np.random.uniform(low=-1.0, high=1.0, size=(10000, 3)))"
     ],
     "language": "python",
     "metadata": {},
     "outputs": []
    },
    {
     "cell_type": "code",
     "collapsed": false,
     "input": [
      "np.allclose(expmap_northpole(bp, logmap_northpole(bp, N)), N)"
     ],
     "language": "python",
     "metadata": {},
     "outputs": []
    },
    {
     "cell_type": "code",
     "collapsed": false,
     "input": [
      "def intrinsic_mean(sd_vectors, logmap, expmap, max_iters=20):\n",
      "    # Compute initial estimate (Euclidian mean of data)\n",
      "    mus = normalise_vector(np.mean(sd_vectors, axis=0))\n",
      "\n",
      "    for i in xrange(max_iters):\n",
      "        # Iteratively improve estimate of intrinsic mean\n",
      "        mus = np.squeeze(expmap(mus, np.mean(logmap(mus, sd_vectors), axis=0)))\n",
      "\n",
      "    return mus"
     ],
     "language": "python",
     "metadata": {},
     "outputs": []
    },
    {
     "cell_type": "code",
     "collapsed": false,
     "input": [
      "mus = intrinsic_mean(N, logmap_northpole, expmap_northpole)"
     ],
     "language": "python",
     "metadata": {},
     "outputs": []
    }
   ],
   "metadata": {}
  }
 ]
}