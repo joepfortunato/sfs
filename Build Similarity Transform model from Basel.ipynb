{
 "metadata": {
  "name": ""
 },
 "nbformat": 3,
 "nbformat_minor": 0,
 "worksheets": [
  {
   "cells": [
    {
     "cell_type": "code",
     "collapsed": false,
     "input": [
      "import os.path\n",
      "import numpy as np\n",
      "import matplotlib.pyplot as plt\n",
      "import cPickle\n",
      "from pybug.image import DepthImage, ShapeImage, RGBImage, IntensityImage\n",
      "from pybug.shape import PointCloud\n",
      "from pybug.io import auto_import\n",
      "from pybug.image import MaskedNDImage\n",
      "from scipy.io import loadmat"
     ],
     "language": "python",
     "metadata": {},
     "outputs": []
    },
    {
     "cell_type": "code",
     "collapsed": false,
     "input": [
      "def print_replace_line(string):\n",
      "    import sys\n",
      "    # Cheeky carriage return so we print on the same line\n",
      "    sys.stdout.write('\\r' + string)\n",
      "    sys.stdout.flush()"
     ],
     "language": "python",
     "metadata": {},
     "outputs": []
    },
    {
     "cell_type": "markdown",
     "metadata": {},
     "source": [
      "## Load all the aligned shapes from Matlab"
     ]
    },
    {
     "cell_type": "code",
     "collapsed": false,
     "input": [
      "RECREATE_SHAPE_IMAGES = False"
     ],
     "language": "python",
     "metadata": {},
     "outputs": []
    },
    {
     "cell_type": "code",
     "collapsed": false,
     "input": [
      "if not RECREATE_SHAPE_IMAGES and os.path.exists('/vol/atlas/pts08/basel_with_4_landmarks_normals.pkl'):\n",
      "    with open('/vol/atlas/pts08/basel_with_4_landmarks_normals.pkl') as f:\n",
      "        images = cPickle.load(f)\n",
      "else:\n",
      "    basel_dataset = loadmat('/vol/atlas/pts08/basel_python_4.mat')\n",
      "    textures = basel_dataset['textures']\n",
      "    shape = basel_dataset['shapes']\n",
      "    landmarks = basel_dataset['landmarks']\n",
      "    \n",
      "    N = landmarks.shape[2]\n",
      "    \n",
      "    all_images = []\n",
      "    \n",
      "    for i in xrange(N):\n",
      "        temp_texture = np.concatenate([textures[:, :, i][..., None]]*3, axis=-1)\n",
      "        shape_image = ShapeImage(-1 * shape[:, :, :, i], texture=RGBImage(temp_texture))\n",
      "        shape_image.landmarks['IBUG'] = PointCloud(landmarks[:, ::-1, i])\n",
      "        shape_image.mesh.texture.landmarks['IBUG'] = shape_image.landmarks['IBUG'] \n",
      "        all_images.append(shape_image)\n",
      "        print_replace_line('Image {0} of {1}'.format(i + 1, N))\n",
      "    \n",
      "    print '\\n'\n",
      "    images = [im for im in all_images if im.n_landmark_groups == 1]\n",
      "    print \"{0}% of the images had landmarks\".format((float(len(images)) / len(all_images)) * 100)\n",
      "    cPickle.dump(images, open('/vol/atlas/pts08/basel_python_4.pkl', 'wb'), protocol=2)"
     ],
     "language": "python",
     "metadata": {},
     "outputs": []
    },
    {
     "cell_type": "code",
     "collapsed": false,
     "input": [
      "def extract_normals(images):\n",
      "    vector_shape = images[0].mesh.vertex_normals.shape\n",
      "    normals = np.zeros([len(images), vector_shape[0], vector_shape[1]])\n",
      "    for i, im in enumerate(images):\n",
      "        normals[i, ...] = im.mesh.vertex_normals\n",
      "    return normals"
     ],
     "language": "python",
     "metadata": {},
     "outputs": []
    },
    {
     "cell_type": "code",
     "collapsed": false,
     "input": [
      "normal_matrix = extract_normals(images)"
     ],
     "language": "python",
     "metadata": {},
     "outputs": []
    },
    {
     "cell_type": "code",
     "collapsed": false,
     "input": [
      "def create_feature_space(feature_matrix, example_image, feature_space_name):\n",
      "    feature_space_images = []\n",
      "    N = feature_matrix.shape[0]\n",
      "    for i, n in enumerate(feature_matrix):\n",
      "        new_im = MaskedNDImage.blank(example_image.shape, mask=example_image.mask, n_channels=n.shape[1])\n",
      "        new_im.from_vector_inplace(n.flatten())\n",
      "        new_im.landmarks = example_image.landmarks\n",
      "        feature_space_images.append(new_im)\n",
      "        print_replace_line('Image {0} of {1}'.format(i + 1, N))\n",
      "\n",
      "    cPickle.dump(images, open('/vol/atlas/pts08/basel_with_4_landmarks_{0}.pkl'.format(feature_space_name), 'wb'), protocol=2)\n",
      "    return feature_space_images"
     ],
     "language": "python",
     "metadata": {},
     "outputs": []
    },
    {
     "cell_type": "markdown",
     "metadata": {},
     "source": [
      "## Calculate the normals (for LS and Cosine)"
     ]
    },
    {
     "cell_type": "code",
     "collapsed": false,
     "input": [
      "normal_images = create_feature_space(normal_matrix, images[0], 'normals')"
     ],
     "language": "python",
     "metadata": {},
     "outputs": []
    },
    {
     "cell_type": "markdown",
     "metadata": {},
     "source": [
      "## Calculate the Spherical feature space"
     ]
    },
    {
     "cell_type": "code",
     "collapsed": false,
     "input": [
      "from cosine_normals import Spherical\n",
      "spherical_matrix = Spherical().logmap(normal_matrix)\n",
      "spherical_images = create_feature_space(spherical_matrix, images[0], 'spherical')"
     ],
     "language": "python",
     "metadata": {},
     "outputs": []
    },
    {
     "cell_type": "markdown",
     "metadata": {},
     "source": [
      "## Calculate the AEP feature space"
     ]
    },
    {
     "cell_type": "code",
     "collapsed": false,
     "input": [
      "from vector_utils import normalise_vector\n",
      "mean_normals = normalise_vector(np.mean(normal_matrix, 0))"
     ],
     "language": "python",
     "metadata": {},
     "outputs": []
    },
    {
     "cell_type": "code",
     "collapsed": false,
     "input": [
      "from logmap_utils import partial_logmap\n",
      "from aep import AEP\n",
      "\n",
      "aep_matrix = AEP(mean_normals).logmap(normal_matrix)\n",
      "aep_images = create_feature_space(aep_matrix, images[0], 'aep')"
     ],
     "language": "python",
     "metadata": {},
     "outputs": []
    },
    {
     "cell_type": "markdown",
     "metadata": {},
     "source": [
      "## Calculate the PGA feature space"
     ]
    },
    {
     "cell_type": "code",
     "collapsed": false,
     "input": [
      "from pga import PGA, intrinsic_mean\n",
      "mu = intrinsic_mean(normal_matrix, PGA, max_iters=50)"
     ],
     "language": "python",
     "metadata": {},
     "outputs": []
    },
    {
     "cell_type": "code",
     "collapsed": false,
     "input": [
      "pga_matrix = PGA(mu).logmap(normal_matrix)\n",
      "pga_images = create_feature_space(pga_matrix, images[0], 'pga')"
     ],
     "language": "python",
     "metadata": {},
     "outputs": []
    },
    {
     "cell_type": "markdown",
     "metadata": {},
     "source": [
      "## Calculate the PCA for LS, Spherical, Cosine and AEP"
     ]
    },
    {
     "cell_type": "code",
     "collapsed": false,
     "input": [
      "# Create the template image\n",
      "template = IntensityImage.blank(images[0].shape)"
     ],
     "language": "python",
     "metadata": {},
     "outputs": []
    },
    {
     "cell_type": "code",
     "collapsed": false,
     "input": [
      "from pybug.model.linear import PCAModel\n",
      "normal_model = PCAModel(normal_images, center=True)\n",
      "cosine_model = PCAModel(normal_images, center=False)\n",
      "spherical_model = PCAModel(spherical_images, center=False)\n",
      "aep_model = PCAModel(aep_images, center=False)\n",
      "pga_model = PCAModel(pga_images, center=False)"
     ],
     "language": "python",
     "metadata": {},
     "outputs": []
    },
    {
     "cell_type": "code",
     "collapsed": false,
     "input": [
      "with open('/vol/data/basel_sfs_normal_sim', 'wb') as f:\n",
      "    cPickle.dump({'appearance_model': normal_model,\n",
      "                 'template': template},\n",
      "                 f, protocol=2)\n",
      "with open('/vol/data/basel_sfs_cosine_sim', 'wb') as f:\n",
      "    cPickle.dump({'appearance_model': cosine_model,\n",
      "                 'template': template},\n",
      "                 f, protocol=2)\n",
      "with open('/vol/data/basel_sfs_spherical_sim', 'wb') as f:\n",
      "    cPickle.dump({'appearance_model': spherical_model,\n",
      "                 'template': template},\n",
      "                 f, protocol=2)\n",
      "with open('/vol/data/basel_sfs_aep_sim', 'wb') as f:\n",
      "    cPickle.dump({'appearance_model': aep_model,\n",
      "                 'template': template},\n",
      "                 f, protocol=2)\n",
      "with open('/vol/data/basel_sfs_pga_sim', 'wb') as f:\n",
      "    cPickle.dump({'appearance_model': pga_model,\n",
      "                 'template': template},\n",
      "                 f, protocol=2)"
     ],
     "language": "python",
     "metadata": {},
     "outputs": []
    }
   ],
   "metadata": {}
  }
 ]
}