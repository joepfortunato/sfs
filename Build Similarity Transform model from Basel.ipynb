{
 "metadata": {
  "name": ""
 },
 "nbformat": 3,
 "nbformat_minor": 0,
 "worksheets": [
  {
   "cells": [
    {
     "cell_type": "markdown",
     "metadata": {},
     "source": [
      "## Build Active Appearance Models (AAMs) with Piecewise Affine (PWA) warps\n",
      "##### Version 0.1"
     ]
    },
    {
     "cell_type": "code",
     "collapsed": false,
     "input": [
      "import os.path\n",
      "import numpy as np\n",
      "import matplotlib.pyplot as plt\n",
      "import cPickle\n",
      "from pybug.image import DepthImage, ShapeImage, RGBImage, IntensityImage\n",
      "from pybug.shape import PointCloud\n",
      "from pybug.io import auto_import\n",
      "from pybug.landmark.labels import ibug_68_points, ibug_68_contour, ibug_68_trimesh, labeller\n",
      "import sys\n",
      "from pybug.image import MaskedNDImage\n",
      "import copy\n",
      "from scipy.io import loadmat"
     ],
     "language": "python",
     "metadata": {
      "slideshow": {
       "slide_type": "-"
      }
     },
     "outputs": []
    },
    {
     "cell_type": "code",
     "collapsed": false,
     "input": [
      "if False and os.path.exists('/vol/atlas/pts08/basel_with_4_landmarks_normals.pkl'):\n",
      "    with open('/vol/atlas/pts08/basel_with_4_landmarks_normals.pkl') as f:\n",
      "        images = cPickle.load(f)\n",
      "else:\n",
      "    basel_dataset = loadmat('/vol/atlas/pts08/basel_python_4.mat')\n",
      "    textures = basel_dataset['textures']\n",
      "    shape = basel_dataset['shapes']\n",
      "    landmarks = basel_dataset['landmarks']\n",
      "    \n",
      "    all_images = []\n",
      "    \n",
      "    for i in xrange(199):\n",
      "        shape_image = ShapeImage(-1 * shape[:, :, :, i], texture=IntensityImage(textures[:, :, i]))\n",
      "        shape_image.landmarks['IBUG'] = PointCloud(landmarks[:, ::-1, i])\n",
      "        shape_image.mesh.texture.landmarks['IBUG'] = shape_image.landmarks['IBUG'] \n",
      "        all_images.append(shape_image)\n",
      "    \n",
      "    images = [im for im in all_images if im.n_landmark_groups == 1]\n",
      "    print \"{0}% of the images had landmarks\".format((float(len(images)) / len(all_images)) * 100)\n",
      "    cPickle.dump(images, open('/vol/atlas/pts08/basel_python_4.pkl', 'wb'), protocol=2)\n",
      "    \n",
      "    # Calculate the feature space\n",
      "    normal_images = []\n",
      "    for im in images:\n",
      "        normals = im.mesh.vertex_normals\n",
      "        new_im = MaskedNDImage.blank(im.shape, mask=im.mask, n_channels=3)\n",
      "        new_im.from_vector_inplace(normals.flatten())\n",
      "        normal_images.append(new_im)\n",
      "        new_im.landmarks = im.landmarks\n",
      "        del im\n",
      "    \n",
      "    images = normal_images\n",
      "    \n",
      "    cPickle.dump(images, open('/vol/atlas/pts08/basel_with_4_landmarks_normals.pkl', 'wb'), protocol=2)"
     ],
     "language": "python",
     "metadata": {},
     "outputs": []
    },
    {
     "cell_type": "code",
     "collapsed": false,
     "input": [
      "# Create the template image\n",
      "template = IntensityImage.blank(images[0].shape)"
     ],
     "language": "python",
     "metadata": {},
     "outputs": []
    },
    {
     "cell_type": "code",
     "collapsed": false,
     "input": [
      "from pybug.model.linear import PCAModel\n",
      "normal_model = PCAModel(images, center=True)\n",
      "cosine_model = PCAModel(images, center=False)"
     ],
     "language": "python",
     "metadata": {},
     "outputs": []
    },
    {
     "cell_type": "code",
     "collapsed": false,
     "input": [
      "with open('/vol/data/basel_sfs_normal_sim', 'wb') as f:\n",
      "    cPickle.dump({'appearance_model': normal_model,\n",
      "                 'template': template},\n",
      "                 f, protocol=2)\n",
      "    \n",
      "with open('/vol/data/basel_sfs_cosine_sim', 'wb') as f:\n",
      "    cPickle.dump({'appearance_model': cosine_model,\n",
      "                 'template': template},\n",
      "                 f, protocol=2)"
     ],
     "language": "python",
     "metadata": {},
     "outputs": []
    }
   ],
   "metadata": {}
  }
 ]
}